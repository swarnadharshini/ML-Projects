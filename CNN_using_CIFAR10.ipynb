{
  "nbformat": 4,
  "nbformat_minor": 0,
  "metadata": {
    "colab": {
      "name": "CNN using CIFAR10.ipynb",
      "provenance": [],
      "authorship_tag": "ABX9TyPu4YqJBg+4j5Ludtp5kMDk",
      "include_colab_link": true
    },
    "kernelspec": {
      "name": "python3",
      "display_name": "Python 3"
    },
    "language_info": {
      "name": "python"
    }
  },
  "cells": [
    {
      "cell_type": "markdown",
      "metadata": {
        "id": "view-in-github",
        "colab_type": "text"
      },
      "source": [
        "<a href=\"https://colab.research.google.com/github/swarnadharshini/ML-Projects/blob/main/CNN_using_CIFAR10.ipynb\" target=\"_parent\"><img src=\"https://colab.research.google.com/assets/colab-badge.svg\" alt=\"Open In Colab\"/></a>"
      ]
    },
    {
      "cell_type": "markdown",
      "source": [
        "***Implementing a Deep Learning Model using CIFAR-10 dataset.***\n"
      ],
      "metadata": {
        "id": "6_M7V0vMIq_z"
      }
    },
    {
      "cell_type": "code",
      "execution_count": 43,
      "metadata": {
        "id": "66JiPPv9GNY-"
      },
      "outputs": [],
      "source": [
        "import tensorflow as tf\n",
        "from tensorflow.keras import datasets, layers, models\n",
        "import numpy as np\n",
        "import matplotlib.pyplot as plt"
      ]
    },
    {
      "cell_type": "markdown",
      "source": [
        "LOADING DATASET"
      ],
      "metadata": {
        "id": "HsW2bjNKItZw"
      }
    },
    {
      "cell_type": "code",
      "source": [
        "(X_train, y_train), (X_test, y_test) = datasets.cifar10.load_data()\n",
        "X_train.shape"
      ],
      "metadata": {
        "colab": {
          "base_uri": "https://localhost:8080/"
        },
        "id": "ASIqThcnGvYI",
        "outputId": "b09a42f5-af1b-40f7-dcb2-d34fe3c68c87"
      },
      "execution_count": 44,
      "outputs": [
        {
          "output_type": "execute_result",
          "data": {
            "text/plain": [
              "(50000, 32, 32, 3)"
            ]
          },
          "metadata": {},
          "execution_count": 44
        }
      ]
    },
    {
      "cell_type": "markdown",
      "source": [
        "NORMALIZING IMAGES"
      ],
      "metadata": {
        "id": "B0EtmFSrI0I5"
      }
    },
    {
      "cell_type": "code",
      "source": [
        "X_train = X_train/255.0\n",
        "X_test.shape"
      ],
      "metadata": {
        "colab": {
          "base_uri": "https://localhost:8080/"
        },
        "id": "WJR4T4rVHi88",
        "outputId": "8e6b3318-bf6e-46fb-88e3-57475fb17bab"
      },
      "execution_count": null,
      "outputs": [
        {
          "output_type": "execute_result",
          "data": {
            "text/plain": [
              "(10000, 32, 32, 3)"
            ]
          },
          "metadata": {},
          "execution_count": 9
        }
      ]
    },
    {
      "cell_type": "code",
      "source": [
        "X_test = X_test/255.0\n",
        "X_test.shape"
      ],
      "metadata": {
        "colab": {
          "base_uri": "https://localhost:8080/"
        },
        "id": "zcVfz4h3HqL5",
        "outputId": "186a029e-8515-4828-9227-0cd696137baa"
      },
      "execution_count": null,
      "outputs": [
        {
          "output_type": "execute_result",
          "data": {
            "text/plain": [
              "(10000, 32, 32, 3)"
            ]
          },
          "metadata": {},
          "execution_count": 10
        }
      ]
    },
    {
      "cell_type": "code",
      "source": [
        "plt.imshow(X_test[15])"
      ],
      "metadata": {
        "colab": {
          "base_uri": "https://localhost:8080/",
          "height": 283
        },
        "id": "q-14OwKzHvS1",
        "outputId": "1633f347-971a-4bff-f530-7f6417f0bce5"
      },
      "execution_count": null,
      "outputs": [
        {
          "output_type": "execute_result",
          "data": {
            "text/plain": [
              "<matplotlib.image.AxesImage at 0x7f347c9bff90>"
            ]
          },
          "metadata": {},
          "execution_count": 11
        },
        {
          "output_type": "display_data",
          "data": {
            "image/png": "[encoded data removed]",
            "text/plain": [
              "<Figure size 432x288 with 1 Axes>"
            ]
          },
          "metadata": {
            "needs_background": "light"
          }
        }
      ]
    },
    {
      "cell_type": "markdown",
      "source": [
        "Building a Convolutional Neural Network"
      ],
      "metadata": {
        "id": "630WdCwhJP68"
      }
    },
    {
      "cell_type": "code",
      "source": [
        "cifar10_model=tf.keras.models.Sequential()"
      ],
      "metadata": {
        "id": "Nrpp3LZYJNau"
      },
      "execution_count": null,
      "outputs": []
    },
    {
      "cell_type": "code",
      "source": [
        "# First Layer\n",
        "cifar10_model.add(tf.keras.layers.Conv2D(filters=32,kernel_size=3,padding=\"same\", activation=\"relu\", input_shape=[32,32,3]))"
      ],
      "metadata": {
        "id": "R1DPBU7RJW1h"
      },
      "execution_count": null,
      "outputs": []
    },
    {
      "cell_type": "code",
      "source": [
        "# Second Layer\n",
        "cifar10_model.add(tf.keras.layers.Conv2D(filters=32,kernel_size=3,padding=\"same\", activation=\"relu\"))"
      ],
      "metadata": {
        "id": "s-juHeAIJdMo"
      },
      "execution_count": null,
      "outputs": []
    },
    {
      "cell_type": "code",
      "source": [
        "# Max Pooling Layer\n",
        "cifar10_model.add(tf.keras.layers.MaxPool2D(pool_size=2,strides=2,padding='valid'))"
      ],
      "metadata": {
        "id": "WzZtY3bjJg9G"
      },
      "execution_count": null,
      "outputs": []
    },
    {
      "cell_type": "code",
      "source": [
        "# Flattening Layer\n",
        "cifar10_model.add(tf.keras.layers.Flatten())"
      ],
      "metadata": {
        "id": "D1F66zmtJuUI"
      },
      "execution_count": null,
      "outputs": []
    },
    {
      "cell_type": "code",
      "source": [
        "# Droput Layer\n",
        "cifar10_model.add(tf.keras.layers.Dropout(0.5,noise_shape=None,seed=None))"
      ],
      "metadata": {
        "id": "OgnutcPXJwtC"
      },
      "execution_count": null,
      "outputs": []
    },
    {
      "cell_type": "code",
      "source": [
        "# Adding the first fully connected layer\n",
        "cifar10_model.add(tf.keras.layers.Dense(units=128,activation='relu'))"
      ],
      "metadata": {
        "id": "62q7sfK_Jzuh"
      },
      "execution_count": null,
      "outputs": []
    },
    {
      "cell_type": "code",
      "source": [
        "# Output Layer\n",
        "cifar10_model.add(tf.keras.layers.Dense(units=10,activation='softmax'))"
      ],
      "metadata": {
        "id": "5OD-4ThJJ2l-"
      },
      "execution_count": null,
      "outputs": []
    },
    {
      "cell_type": "code",
      "source": [
        "cifar10_model.summary()"
      ],
      "metadata": {
        "colab": {
          "base_uri": "https://localhost:8080/"
        },
        "id": "V3xQWbSmJ5F3",
        "outputId": "05b97eb1-1ae8-4816-ebe5-9f5f70cc8449"
      },
      "execution_count": null,
      "outputs": [
        {
          "output_type": "stream",
          "name": "stdout",
          "text": [
            "Model: \"sequential_1\"\n",
            "_________________________________________________________________\n",
            " Layer (type)                Output Shape              Param #   \n",
            "=================================================================\n",
            " conv2d_4 (Conv2D)           (None, 32, 32, 32)        896       \n",
            "                                                                 \n",
            " conv2d_5 (Conv2D)           (None, 32, 32, 32)        9248      \n",
            "                                                                 \n",
            " max_pooling2d_2 (MaxPooling  (None, 16, 16, 32)       0         \n",
            " 2D)                                                             \n",
            "                                                                 \n",
            " flatten_2 (Flatten)         (None, 8192)              0         \n",
            "                                                                 \n",
            " flatten_3 (Flatten)         (None, 8192)              0         \n",
            "                                                                 \n",
            " dropout_2 (Dropout)         (None, 8192)              0         \n",
            "                                                                 \n",
            " dense_4 (Dense)             (None, 128)               1048704   \n",
            "                                                                 \n",
            " dense_5 (Dense)             (None, 10)                1290      \n",
            "                                                                 \n",
            "=================================================================\n",
            "Total params: 1,060,138\n",
            "Trainable params: 1,060,138\n",
            "Non-trainable params: 0\n",
            "_________________________________________________________________\n"
          ]
        }
      ]
    },
    {
      "cell_type": "markdown",
      "source": [
        "Compiling the Model"
      ],
      "metadata": {
        "id": "bcRovMENKHC4"
      }
    },
    {
      "cell_type": "code",
      "source": [
        "cifar10_model.compile(loss=\"sparse_categorical_crossentropy\", optimizer=\"Adam\", metrics=[\"sparse_categorical_accuracy\"])"
      ],
      "metadata": {
        "id": "E1_5D_esJ7NM"
      },
      "execution_count": 45,
      "outputs": []
    },
    {
      "cell_type": "markdown",
      "source": [
        "Training the Model"
      ],
      "metadata": {
        "id": "YiuG1tbRKN37"
      }
    },
    {
      "cell_type": "code",
      "source": [
        "cifar10_model.fit(X_train,y_train,epochs=15)"
      ],
      "metadata": {
        "colab": {
          "base_uri": "https://localhost:8080/"
        },
        "id": "CMYctTCSKLV3",
        "outputId": "ba1c6e79-c341-41d3-f6cf-6596aa2d1d0b"
      },
      "execution_count": 46,
      "outputs": [
        {
          "output_type": "stream",
          "name": "stdout",
          "text": [
            "Epoch 1/15\n",
            "1563/1563 [==============================] - 140s 89ms/step - loss: 2.3485 - sparse_categorical_accuracy: 0.3197\n",
            "Epoch 2/15\n",
            "1563/1563 [==============================] - 137s 87ms/step - loss: 1.4373 - sparse_categorical_accuracy: 0.4856\n",
            "Epoch 3/15\n",
            "1563/1563 [==============================] - 136s 87ms/step - loss: 1.2660 - sparse_categorical_accuracy: 0.5534\n",
            "Epoch 4/15\n",
            "1563/1563 [==============================] - 141s 90ms/step - loss: 1.1523 - sparse_categorical_accuracy: 0.5967\n",
            "Epoch 5/15\n",
            "1563/1563 [==============================] - 139s 89ms/step - loss: 1.0881 - sparse_categorical_accuracy: 0.6171\n",
            "Epoch 6/15\n",
            "1563/1563 [==============================] - 138s 88ms/step - loss: 1.0321 - sparse_categorical_accuracy: 0.6403\n",
            "Epoch 7/15\n",
            "1563/1563 [==============================] - 138s 88ms/step - loss: 0.9753 - sparse_categorical_accuracy: 0.6573\n",
            "Epoch 8/15\n",
            "1563/1563 [==============================] - 140s 90ms/step - loss: 0.9333 - sparse_categorical_accuracy: 0.6756\n",
            "Epoch 9/15\n",
            "1563/1563 [==============================] - 137s 88ms/step - loss: 0.8928 - sparse_categorical_accuracy: 0.6909\n",
            "Epoch 10/15\n",
            "1563/1563 [==============================] - 139s 89ms/step - loss: 0.8545 - sparse_categorical_accuracy: 0.7036\n",
            "Epoch 11/15\n",
            "1563/1563 [==============================] - 138s 88ms/step - loss: 0.8278 - sparse_categorical_accuracy: 0.7150\n",
            "Epoch 12/15\n",
            "1563/1563 [==============================] - 138s 89ms/step - loss: 0.7950 - sparse_categorical_accuracy: 0.7260\n",
            "Epoch 13/15\n",
            "1563/1563 [==============================] - 138s 88ms/step - loss: 0.7752 - sparse_categorical_accuracy: 0.7336\n",
            "Epoch 14/15\n",
            "1563/1563 [==============================] - 138s 88ms/step - loss: 0.7536 - sparse_categorical_accuracy: 0.7410\n",
            "Epoch 15/15\n",
            "1563/1563 [==============================] - 138s 88ms/step - loss: 0.7308 - sparse_categorical_accuracy: 0.7494\n"
          ]
        },
        {
          "output_type": "execute_result",
          "data": {
            "text/plain": [
              "<keras.callbacks.History at 0x7f3472ebdfd0>"
            ]
          },
          "metadata": {},
          "execution_count": 46
        }
      ]
    },
    {
      "cell_type": "code",
      "source": [
        "test_loss, test_accuracy = cifar10_model.evaluate(X_test, y_test)"
      ],
      "metadata": {
        "id": "Dn1qbTxeKRKE",
        "colab": {
          "base_uri": "https://localhost:8080/"
        },
        "outputId": "6d751822-8294-4e90-9bc3-18356ebf8847"
      },
      "execution_count": 48,
      "outputs": [
        {
          "output_type": "stream",
          "name": "stdout",
          "text": [
            "313/313 [==============================] - 8s 24ms/step - loss: 1.0475 - sparse_categorical_accuracy: 0.6462\n"
          ]
        }
      ]
    },
    {
      "cell_type": "code",
      "source": [
        "print(\"Test accuracy: {}\".format(test_accuracy))"
      ],
      "metadata": {
        "id": "kOy1Fr6AKaQe",
        "colab": {
          "base_uri": "https://localhost:8080/"
        },
        "outputId": "175378aa-ba39-44b7-90f0-975ca123c54d"
      },
      "execution_count": 49,
      "outputs": [
        {
          "output_type": "stream",
          "name": "stdout",
          "text": [
            "Test accuracy: 0.6462000012397766\n"
          ]
        }
      ]
    }
  ]
}